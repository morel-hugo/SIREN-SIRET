{
 "cells": [
  {
   "cell_type": "markdown",
   "metadata": {},
   "source": [
    "### Include Librairies"
   ]
  },
  {
   "cell_type": "code",
   "execution_count": 120,
   "metadata": {},
   "outputs": [],
   "source": [
    "import pandas as pd\n",
    "import seaborn as sns\n",
    "import numpy as np\n",
    "import math\n",
    "from datetime import *\n",
    "import pygal             # Usefull for french map\n",
    "from pygal.style import Style\n",
    "import matplotlib.pyplot as plt\n",
    "%matplotlib inline"
   ]
  },
  {
   "cell_type": "markdown",
   "metadata": {},
   "source": [
    "### Import Data"
   ]
  },
  {
   "cell_type": "code",
   "execution_count": 121,
   "metadata": {},
   "outputs": [
    {
     "name": "stderr",
     "output_type": "stream",
     "text": [
      "/Library/Frameworks/Python.framework/Versions/3.7/lib/python3.7/site-packages/IPython/core/interactiveshell.py:3049: DtypeWarning: Columns (7,17,19,25,26,27,29,32,42,48,49,50,52,54,55,57,72,73,74,75) have mixed types. Specify dtype option on import or set low_memory=False.\n",
      "  interactivity=interactivity, compiler=compiler, result=result)\n"
     ]
    }
   ],
   "source": [
    "df = pd.read_csv('data.csv')"
   ]
  },
  {
   "cell_type": "code",
   "execution_count": 122,
   "metadata": {
    "scrolled": false
   },
   "outputs": [
    {
     "data": {
      "text/html": [
       "<div>\n",
       "<style scoped>\n",
       "    .dataframe tbody tr th:only-of-type {\n",
       "        vertical-align: middle;\n",
       "    }\n",
       "\n",
       "    .dataframe tbody tr th {\n",
       "        vertical-align: top;\n",
       "    }\n",
       "\n",
       "    .dataframe thead th {\n",
       "        text-align: right;\n",
       "    }\n",
       "</style>\n",
       "<table border=\"1\" class=\"dataframe\">\n",
       "  <thead>\n",
       "    <tr style=\"text-align: right;\">\n",
       "      <th></th>\n",
       "      <th>siren</th>\n",
       "      <th>nic</th>\n",
       "      <th>siret</th>\n",
       "      <th>statutDiffusionEtablissement</th>\n",
       "      <th>dateCreationEtablissement</th>\n",
       "      <th>trancheEffectifsEtablissement</th>\n",
       "      <th>anneeEffectifsEtablissement</th>\n",
       "      <th>activitePrincipaleRegistreMetiersEtablissement</th>\n",
       "      <th>dateDernierTraitementEtablissement</th>\n",
       "      <th>etablissementSiege</th>\n",
       "      <th>...</th>\n",
       "      <th>dateFin</th>\n",
       "      <th>dateDebut</th>\n",
       "      <th>etatAdministratifEtablissement</th>\n",
       "      <th>enseigne1Etablissement</th>\n",
       "      <th>enseigne2Etablissement</th>\n",
       "      <th>enseigne3Etablissement</th>\n",
       "      <th>denominationUsuelleEtablissement</th>\n",
       "      <th>activitePrincipaleEtablissement</th>\n",
       "      <th>nomenclatureActivitePrincipaleEtablissement</th>\n",
       "      <th>caractereEmployeurEtablissement</th>\n",
       "    </tr>\n",
       "  </thead>\n",
       "  <tbody>\n",
       "    <tr>\n",
       "      <th>99995</th>\n",
       "      <td>43835446</td>\n",
       "      <td>14</td>\n",
       "      <td>4383544600014</td>\n",
       "      <td>O</td>\n",
       "      <td>1995-12-25</td>\n",
       "      <td>01</td>\n",
       "      <td>2016.0</td>\n",
       "      <td>NaN</td>\n",
       "      <td>2018-09-29T12:01:21</td>\n",
       "      <td>True</td>\n",
       "      <td>...</td>\n",
       "      <td>NaN</td>\n",
       "      <td>2008-01-01</td>\n",
       "      <td>A</td>\n",
       "      <td>NaN</td>\n",
       "      <td>NaN</td>\n",
       "      <td>NaN</td>\n",
       "      <td>NaN</td>\n",
       "      <td>81.10Z</td>\n",
       "      <td>NAFRev2</td>\n",
       "      <td>O</td>\n",
       "    </tr>\n",
       "    <tr>\n",
       "      <th>99996</th>\n",
       "      <td>43835453</td>\n",
       "      <td>10</td>\n",
       "      <td>4383545300010</td>\n",
       "      <td>O</td>\n",
       "      <td>1995-12-25</td>\n",
       "      <td>NN</td>\n",
       "      <td>NaN</td>\n",
       "      <td>NaN</td>\n",
       "      <td>2017-05-04T01:04:57</td>\n",
       "      <td>True</td>\n",
       "      <td>...</td>\n",
       "      <td>NaN</td>\n",
       "      <td>2015-07-31</td>\n",
       "      <td>A</td>\n",
       "      <td>NaN</td>\n",
       "      <td>NaN</td>\n",
       "      <td>NaN</td>\n",
       "      <td>NaN</td>\n",
       "      <td>81.10Z</td>\n",
       "      <td>NAFRev2</td>\n",
       "      <td>N</td>\n",
       "    </tr>\n",
       "    <tr>\n",
       "      <th>99997</th>\n",
       "      <td>43835479</td>\n",
       "      <td>15</td>\n",
       "      <td>4383547900015</td>\n",
       "      <td>O</td>\n",
       "      <td>1997-12-25</td>\n",
       "      <td>NN</td>\n",
       "      <td>NaN</td>\n",
       "      <td>NaN</td>\n",
       "      <td>2014-06-13T23:07:11</td>\n",
       "      <td>True</td>\n",
       "      <td>...</td>\n",
       "      <td>NaN</td>\n",
       "      <td>2012-12-10</td>\n",
       "      <td>A</td>\n",
       "      <td>NaN</td>\n",
       "      <td>NaN</td>\n",
       "      <td>NaN</td>\n",
       "      <td>NaN</td>\n",
       "      <td>81.10Z</td>\n",
       "      <td>NAFRev2</td>\n",
       "      <td>N</td>\n",
       "    </tr>\n",
       "    <tr>\n",
       "      <th>99998</th>\n",
       "      <td>43835487</td>\n",
       "      <td>18</td>\n",
       "      <td>4383548700018</td>\n",
       "      <td>O</td>\n",
       "      <td>1995-12-25</td>\n",
       "      <td>NN</td>\n",
       "      <td>NaN</td>\n",
       "      <td>NaN</td>\n",
       "      <td>2009-06-27T03:11:03</td>\n",
       "      <td>False</td>\n",
       "      <td>...</td>\n",
       "      <td>NaN</td>\n",
       "      <td>2004-01-01</td>\n",
       "      <td>F</td>\n",
       "      <td>NaN</td>\n",
       "      <td>NaN</td>\n",
       "      <td>NaN</td>\n",
       "      <td>NaN</td>\n",
       "      <td>70.3C</td>\n",
       "      <td>NAFRev1</td>\n",
       "      <td>O</td>\n",
       "    </tr>\n",
       "    <tr>\n",
       "      <th>99999</th>\n",
       "      <td>43835487</td>\n",
       "      <td>26</td>\n",
       "      <td>4383548700026</td>\n",
       "      <td>O</td>\n",
       "      <td>2004-01-01</td>\n",
       "      <td>NN</td>\n",
       "      <td>NaN</td>\n",
       "      <td>NaN</td>\n",
       "      <td>2012-05-05T00:13:51</td>\n",
       "      <td>True</td>\n",
       "      <td>...</td>\n",
       "      <td>NaN</td>\n",
       "      <td>2008-01-01</td>\n",
       "      <td>A</td>\n",
       "      <td>NaN</td>\n",
       "      <td>NaN</td>\n",
       "      <td>NaN</td>\n",
       "      <td>NaN</td>\n",
       "      <td>81.10Z</td>\n",
       "      <td>NAFRev2</td>\n",
       "      <td>O</td>\n",
       "    </tr>\n",
       "  </tbody>\n",
       "</table>\n",
       "<p>5 rows × 79 columns</p>\n",
       "</div>"
      ],
      "text/plain": [
       "          siren  nic          siret statutDiffusionEtablissement  \\\n",
       "99995  43835446   14  4383544600014                            O   \n",
       "99996  43835453   10  4383545300010                            O   \n",
       "99997  43835479   15  4383547900015                            O   \n",
       "99998  43835487   18  4383548700018                            O   \n",
       "99999  43835487   26  4383548700026                            O   \n",
       "\n",
       "      dateCreationEtablissement trancheEffectifsEtablissement  \\\n",
       "99995                1995-12-25                            01   \n",
       "99996                1995-12-25                            NN   \n",
       "99997                1997-12-25                            NN   \n",
       "99998                1995-12-25                            NN   \n",
       "99999                2004-01-01                            NN   \n",
       "\n",
       "       anneeEffectifsEtablissement  \\\n",
       "99995                       2016.0   \n",
       "99996                          NaN   \n",
       "99997                          NaN   \n",
       "99998                          NaN   \n",
       "99999                          NaN   \n",
       "\n",
       "      activitePrincipaleRegistreMetiersEtablissement  \\\n",
       "99995                                            NaN   \n",
       "99996                                            NaN   \n",
       "99997                                            NaN   \n",
       "99998                                            NaN   \n",
       "99999                                            NaN   \n",
       "\n",
       "      dateDernierTraitementEtablissement  etablissementSiege  ...  dateFin  \\\n",
       "99995                2018-09-29T12:01:21                True  ...      NaN   \n",
       "99996                2017-05-04T01:04:57                True  ...      NaN   \n",
       "99997                2014-06-13T23:07:11                True  ...      NaN   \n",
       "99998                2009-06-27T03:11:03               False  ...      NaN   \n",
       "99999                2012-05-05T00:13:51                True  ...      NaN   \n",
       "\n",
       "        dateDebut etatAdministratifEtablissement enseigne1Etablissement  \\\n",
       "99995  2008-01-01                              A                    NaN   \n",
       "99996  2015-07-31                              A                    NaN   \n",
       "99997  2012-12-10                              A                    NaN   \n",
       "99998  2004-01-01                              F                    NaN   \n",
       "99999  2008-01-01                              A                    NaN   \n",
       "\n",
       "      enseigne2Etablissement  enseigne3Etablissement  \\\n",
       "99995                    NaN                     NaN   \n",
       "99996                    NaN                     NaN   \n",
       "99997                    NaN                     NaN   \n",
       "99998                    NaN                     NaN   \n",
       "99999                    NaN                     NaN   \n",
       "\n",
       "      denominationUsuelleEtablissement activitePrincipaleEtablissement  \\\n",
       "99995                              NaN                          81.10Z   \n",
       "99996                              NaN                          81.10Z   \n",
       "99997                              NaN                          81.10Z   \n",
       "99998                              NaN                           70.3C   \n",
       "99999                              NaN                          81.10Z   \n",
       "\n",
       "      nomenclatureActivitePrincipaleEtablissement  \\\n",
       "99995                                     NAFRev2   \n",
       "99996                                     NAFRev2   \n",
       "99997                                     NAFRev2   \n",
       "99998                                     NAFRev1   \n",
       "99999                                     NAFRev2   \n",
       "\n",
       "      caractereEmployeurEtablissement  \n",
       "99995                               O  \n",
       "99996                               N  \n",
       "99997                               N  \n",
       "99998                               O  \n",
       "99999                               O  \n",
       "\n",
       "[5 rows x 79 columns]"
      ]
     },
     "execution_count": 122,
     "metadata": {},
     "output_type": "execute_result"
    }
   ],
   "source": [
    "df.tail(5)"
   ]
  },
  {
   "cell_type": "markdown",
   "metadata": {},
   "source": [
    "### Slipt Columns"
   ]
  },
  {
   "cell_type": "code",
   "execution_count": 123,
   "metadata": {},
   "outputs": [
    {
     "data": {
      "text/plain": [
       "99803"
      ]
     },
     "execution_count": 123,
     "metadata": {},
     "output_type": "execute_result"
    }
   ],
   "source": [
    "df['activitePrincipaleEtablissement'].count()"
   ]
  },
  {
   "cell_type": "code",
   "execution_count": 124,
   "metadata": {},
   "outputs": [
    {
     "data": {
      "text/plain": [
       "Index(['siren', 'nic', 'siret', 'nombrePeriodesEtablissement',\n",
       "       'categorieJuridiqueUniteLegale', 'nicSiegeUniteLegale'],\n",
       "      dtype='object')"
      ]
     },
     "execution_count": 124,
     "metadata": {},
     "output_type": "execute_result"
    }
   ],
   "source": [
    "columns_int = df.select_dtypes(include=['int']).columns\n",
    "columns_int"
   ]
  },
  {
   "cell_type": "code",
   "execution_count": 125,
   "metadata": {},
   "outputs": [
    {
     "data": {
      "text/plain": [
       "Index(['anneeEffectifsEtablissement', 'denominationUsuelle3UniteLegale',\n",
       "       'anneeEffectifsUniteLegale', 'anneeCategorieEntreprise',\n",
       "       'codePostalEtablissement', 'codeCedexEtablissement',\n",
       "       'codePaysEtrangerEtablissement', 'numeroVoie2Etablissement',\n",
       "       'codePostal2Etablissement', 'libelleCommuneEtranger2Etablissement',\n",
       "       'distributionSpeciale2Etablissement', 'codeCommune2Etablissement',\n",
       "       'codeCedex2Etablissement', 'libelleCedex2Etablissement',\n",
       "       'codePaysEtranger2Etablissement', 'libellePaysEtranger2Etablissement'],\n",
       "      dtype='object')"
      ]
     },
     "execution_count": 125,
     "metadata": {},
     "output_type": "execute_result"
    }
   ],
   "source": [
    "columns_float = df.select_dtypes(include=['float']).columns\n",
    "columns_float"
   ]
  },
  {
   "cell_type": "code",
   "execution_count": 126,
   "metadata": {},
   "outputs": [
    {
     "data": {
      "text/plain": [
       "Index(['statutDiffusionEtablissement', 'dateCreationEtablissement',\n",
       "       'trancheEffectifsEtablissement',\n",
       "       'activitePrincipaleRegistreMetiersEtablissement',\n",
       "       'dateDernierTraitementEtablissement', 'etatAdministratifUniteLegale',\n",
       "       'statutDiffusionUniteLegale', 'unitePurgeeUniteLegale',\n",
       "       'dateCreationUniteLegale', 'denominationUniteLegale',\n",
       "       'sigleUniteLegale', 'denominationUsuelle1UniteLegale',\n",
       "       'denominationUsuelle2UniteLegale', 'sexeUniteLegale', 'nomUniteLegale',\n",
       "       'nomUsageUniteLegale', 'prenom1UniteLegale', 'prenom2UniteLegale',\n",
       "       'prenom3UniteLegale', 'prenom4UniteLegale', 'prenomUsuelUniteLegale',\n",
       "       'pseudonymeUniteLegale', 'activitePrincipaleUniteLegale',\n",
       "       'nomenclatureActivitePrincipaleUniteLegale',\n",
       "       'identifiantAssociationUniteLegale',\n",
       "       'economieSocialeSolidaireUniteLegale', 'caractereEmployeurUniteLegale',\n",
       "       'trancheEffectifsUniteLegale', 'dateDernierTraitementUniteLegale',\n",
       "       'categorieEntreprise', 'complementAdresseEtablissement',\n",
       "       'numeroVoieEtablissement', 'indiceRepetitionEtablissement',\n",
       "       'typeVoieEtablissement', 'libelleVoieEtablissement',\n",
       "       'libelleCommuneEtablissement', 'libelleCommuneEtrangerEtablissement',\n",
       "       'distributionSpecialeEtablissement', 'codeCommuneEtablissement',\n",
       "       'libelleCedexEtablissement', 'libellePaysEtrangerEtablissement',\n",
       "       'complementAdresse2Etablissement', 'indiceRepetition2Etablissement',\n",
       "       'typeVoie2Etablissement', 'libelleVoie2Etablissement',\n",
       "       'libelleCommune2Etablissement', 'dateFin', 'dateDebut',\n",
       "       'etatAdministratifEtablissement', 'enseigne1Etablissement',\n",
       "       'enseigne2Etablissement', 'enseigne3Etablissement',\n",
       "       'denominationUsuelleEtablissement', 'activitePrincipaleEtablissement',\n",
       "       'nomenclatureActivitePrincipaleEtablissement',\n",
       "       'caractereEmployeurEtablissement'],\n",
       "      dtype='object')"
      ]
     },
     "execution_count": 126,
     "metadata": {},
     "output_type": "execute_result"
    }
   ],
   "source": [
    "columns_object = df.select_dtypes(include=['object']).columns\n",
    "columns_object"
   ]
  },
  {
   "cell_type": "code",
   "execution_count": 127,
   "metadata": {},
   "outputs": [
    {
     "data": {
      "text/plain": [
       "94339"
      ]
     },
     "execution_count": 127,
     "metadata": {},
     "output_type": "execute_result"
    }
   ],
   "source": [
    "df['siren'].nunique()"
   ]
  },
  {
   "cell_type": "code",
   "execution_count": 128,
   "metadata": {},
   "outputs": [
    {
     "data": {
      "text/plain": [
       "100000"
      ]
     },
     "execution_count": 128,
     "metadata": {},
     "output_type": "execute_result"
    }
   ],
   "source": [
    "df['siren'].count()"
   ]
  },
  {
   "cell_type": "code",
   "execution_count": 129,
   "metadata": {},
   "outputs": [
    {
     "data": {
      "text/plain": [
       "100000"
      ]
     },
     "execution_count": 129,
     "metadata": {},
     "output_type": "execute_result"
    }
   ],
   "source": [
    "df['siret'].nunique()"
   ]
  },
  {
   "cell_type": "code",
   "execution_count": 130,
   "metadata": {},
   "outputs": [
    {
     "data": {
      "text/html": [
       "<div>\n",
       "<style scoped>\n",
       "    .dataframe tbody tr th:only-of-type {\n",
       "        vertical-align: middle;\n",
       "    }\n",
       "\n",
       "    .dataframe tbody tr th {\n",
       "        vertical-align: top;\n",
       "    }\n",
       "\n",
       "    .dataframe thead th {\n",
       "        text-align: right;\n",
       "    }\n",
       "</style>\n",
       "<table border=\"1\" class=\"dataframe\">\n",
       "  <thead>\n",
       "    <tr style=\"text-align: right;\">\n",
       "      <th></th>\n",
       "      <th>nic</th>\n",
       "      <th>siret</th>\n",
       "      <th>statutDiffusionEtablissement</th>\n",
       "      <th>dateCreationEtablissement</th>\n",
       "      <th>trancheEffectifsEtablissement</th>\n",
       "      <th>anneeEffectifsEtablissement</th>\n",
       "      <th>activitePrincipaleRegistreMetiersEtablissement</th>\n",
       "      <th>dateDernierTraitementEtablissement</th>\n",
       "      <th>etablissementSiege</th>\n",
       "      <th>nombrePeriodesEtablissement</th>\n",
       "      <th>...</th>\n",
       "      <th>dateFin</th>\n",
       "      <th>dateDebut</th>\n",
       "      <th>etatAdministratifEtablissement</th>\n",
       "      <th>enseigne1Etablissement</th>\n",
       "      <th>enseigne2Etablissement</th>\n",
       "      <th>enseigne3Etablissement</th>\n",
       "      <th>denominationUsuelleEtablissement</th>\n",
       "      <th>activitePrincipaleEtablissement</th>\n",
       "      <th>nomenclatureActivitePrincipaleEtablissement</th>\n",
       "      <th>caractereEmployeurEtablissement</th>\n",
       "    </tr>\n",
       "    <tr>\n",
       "      <th>siren</th>\n",
       "      <th></th>\n",
       "      <th></th>\n",
       "      <th></th>\n",
       "      <th></th>\n",
       "      <th></th>\n",
       "      <th></th>\n",
       "      <th></th>\n",
       "      <th></th>\n",
       "      <th></th>\n",
       "      <th></th>\n",
       "      <th></th>\n",
       "      <th></th>\n",
       "      <th></th>\n",
       "      <th></th>\n",
       "      <th></th>\n",
       "      <th></th>\n",
       "      <th></th>\n",
       "      <th></th>\n",
       "      <th></th>\n",
       "      <th></th>\n",
       "      <th></th>\n",
       "    </tr>\n",
       "  </thead>\n",
       "  <tbody>\n",
       "    <tr>\n",
       "      <th>325175</th>\n",
       "      <td>16</td>\n",
       "      <td>32517500016</td>\n",
       "      <td>O</td>\n",
       "      <td>2000-09-26</td>\n",
       "      <td>NaN</td>\n",
       "      <td>NaN</td>\n",
       "      <td>3212ZZ</td>\n",
       "      <td>2015-03-18T00:58:59</td>\n",
       "      <td>False</td>\n",
       "      <td>3</td>\n",
       "      <td>...</td>\n",
       "      <td>2018-02-06</td>\n",
       "      <td>2009-05-27</td>\n",
       "      <td>F</td>\n",
       "      <td>TAHITI PERLES CREATIONS</td>\n",
       "      <td>NaN</td>\n",
       "      <td>NaN</td>\n",
       "      <td>NaN</td>\n",
       "      <td>32.12Z</td>\n",
       "      <td>NAFRev2</td>\n",
       "      <td>N</td>\n",
       "    </tr>\n",
       "    <tr>\n",
       "      <th>1807254</th>\n",
       "      <td>14</td>\n",
       "      <td>180725400014</td>\n",
       "      <td>O</td>\n",
       "      <td>1972-05-01</td>\n",
       "      <td>NaN</td>\n",
       "      <td>NaN</td>\n",
       "      <td>NaN</td>\n",
       "      <td>2009-10-02T11:01:38</td>\n",
       "      <td>False</td>\n",
       "      <td>3</td>\n",
       "      <td>...</td>\n",
       "      <td>NaN</td>\n",
       "      <td>2008-01-01</td>\n",
       "      <td>F</td>\n",
       "      <td>NaN</td>\n",
       "      <td>NaN</td>\n",
       "      <td>NaN</td>\n",
       "      <td>NaN</td>\n",
       "      <td>95.24Z</td>\n",
       "      <td>NAFRev2</td>\n",
       "      <td>N</td>\n",
       "    </tr>\n",
       "    <tr>\n",
       "      <th>5410220</th>\n",
       "      <td>15</td>\n",
       "      <td>541022000015</td>\n",
       "      <td>O</td>\n",
       "      <td>NaN</td>\n",
       "      <td>NN</td>\n",
       "      <td>NaN</td>\n",
       "      <td>NaN</td>\n",
       "      <td>NaN</td>\n",
       "      <td>True</td>\n",
       "      <td>1</td>\n",
       "      <td>...</td>\n",
       "      <td>NaN</td>\n",
       "      <td>1988-03-31</td>\n",
       "      <td>F</td>\n",
       "      <td>NaN</td>\n",
       "      <td>NaN</td>\n",
       "      <td>NaN</td>\n",
       "      <td>NaN</td>\n",
       "      <td>22.02</td>\n",
       "      <td>NAP</td>\n",
       "      <td>N</td>\n",
       "    </tr>\n",
       "    <tr>\n",
       "      <th>5410345</th>\n",
       "      <td>10</td>\n",
       "      <td>541034500010</td>\n",
       "      <td>O</td>\n",
       "      <td>NaN</td>\n",
       "      <td>NaN</td>\n",
       "      <td>NaN</td>\n",
       "      <td>NaN</td>\n",
       "      <td>NaN</td>\n",
       "      <td>True</td>\n",
       "      <td>1</td>\n",
       "      <td>...</td>\n",
       "      <td>NaN</td>\n",
       "      <td>1984-12-25</td>\n",
       "      <td>F</td>\n",
       "      <td>NaN</td>\n",
       "      <td>NaN</td>\n",
       "      <td>NaN</td>\n",
       "      <td>NaN</td>\n",
       "      <td>79.06</td>\n",
       "      <td>NAP</td>\n",
       "      <td>N</td>\n",
       "    </tr>\n",
       "    <tr>\n",
       "      <th>5410394</th>\n",
       "      <td>18</td>\n",
       "      <td>541039400018</td>\n",
       "      <td>O</td>\n",
       "      <td>NaN</td>\n",
       "      <td>NN</td>\n",
       "      <td>NaN</td>\n",
       "      <td>NaN</td>\n",
       "      <td>NaN</td>\n",
       "      <td>True</td>\n",
       "      <td>1</td>\n",
       "      <td>...</td>\n",
       "      <td>NaN</td>\n",
       "      <td>1987-12-01</td>\n",
       "      <td>F</td>\n",
       "      <td>NaN</td>\n",
       "      <td>NaN</td>\n",
       "      <td>NaN</td>\n",
       "      <td>NaN</td>\n",
       "      <td>64.42</td>\n",
       "      <td>NAP</td>\n",
       "      <td>N</td>\n",
       "    </tr>\n",
       "  </tbody>\n",
       "</table>\n",
       "<p>5 rows × 78 columns</p>\n",
       "</div>"
      ],
      "text/plain": [
       "         nic         siret statutDiffusionEtablissement  \\\n",
       "siren                                                     \n",
       "325175    16   32517500016                            O   \n",
       "1807254   14  180725400014                            O   \n",
       "5410220   15  541022000015                            O   \n",
       "5410345   10  541034500010                            O   \n",
       "5410394   18  541039400018                            O   \n",
       "\n",
       "        dateCreationEtablissement trancheEffectifsEtablissement  \\\n",
       "siren                                                             \n",
       "325175                 2000-09-26                           NaN   \n",
       "1807254                1972-05-01                           NaN   \n",
       "5410220                       NaN                            NN   \n",
       "5410345                       NaN                           NaN   \n",
       "5410394                       NaN                            NN   \n",
       "\n",
       "         anneeEffectifsEtablissement  \\\n",
       "siren                                  \n",
       "325175                           NaN   \n",
       "1807254                          NaN   \n",
       "5410220                          NaN   \n",
       "5410345                          NaN   \n",
       "5410394                          NaN   \n",
       "\n",
       "        activitePrincipaleRegistreMetiersEtablissement  \\\n",
       "siren                                                    \n",
       "325175                                          3212ZZ   \n",
       "1807254                                            NaN   \n",
       "5410220                                            NaN   \n",
       "5410345                                            NaN   \n",
       "5410394                                            NaN   \n",
       "\n",
       "        dateDernierTraitementEtablissement  etablissementSiege  \\\n",
       "siren                                                            \n",
       "325175                 2015-03-18T00:58:59               False   \n",
       "1807254                2009-10-02T11:01:38               False   \n",
       "5410220                                NaN                True   \n",
       "5410345                                NaN                True   \n",
       "5410394                                NaN                True   \n",
       "\n",
       "         nombrePeriodesEtablissement  ...     dateFin   dateDebut  \\\n",
       "siren                                 ...                           \n",
       "325175                             3  ...  2018-02-06  2009-05-27   \n",
       "1807254                            3  ...         NaN  2008-01-01   \n",
       "5410220                            1  ...         NaN  1988-03-31   \n",
       "5410345                            1  ...         NaN  1984-12-25   \n",
       "5410394                            1  ...         NaN  1987-12-01   \n",
       "\n",
       "        etatAdministratifEtablissement   enseigne1Etablissement  \\\n",
       "siren                                                             \n",
       "325175                               F  TAHITI PERLES CREATIONS   \n",
       "1807254                              F                      NaN   \n",
       "5410220                              F                      NaN   \n",
       "5410345                              F                      NaN   \n",
       "5410394                              F                      NaN   \n",
       "\n",
       "         enseigne2Etablissement enseigne3Etablissement  \\\n",
       "siren                                                    \n",
       "325175                      NaN                    NaN   \n",
       "1807254                     NaN                    NaN   \n",
       "5410220                     NaN                    NaN   \n",
       "5410345                     NaN                    NaN   \n",
       "5410394                     NaN                    NaN   \n",
       "\n",
       "        denominationUsuelleEtablissement activitePrincipaleEtablissement  \\\n",
       "siren                                                                      \n",
       "325175                               NaN                          32.12Z   \n",
       "1807254                              NaN                          95.24Z   \n",
       "5410220                              NaN                           22.02   \n",
       "5410345                              NaN                           79.06   \n",
       "5410394                              NaN                           64.42   \n",
       "\n",
       "        nomenclatureActivitePrincipaleEtablissement  \\\n",
       "siren                                                 \n",
       "325175                                      NAFRev2   \n",
       "1807254                                     NAFRev2   \n",
       "5410220                                         NAP   \n",
       "5410345                                         NAP   \n",
       "5410394                                         NAP   \n",
       "\n",
       "         caractereEmployeurEtablissement  \n",
       "siren                                     \n",
       "325175                                 N  \n",
       "1807254                                N  \n",
       "5410220                                N  \n",
       "5410345                                N  \n",
       "5410394                                N  \n",
       "\n",
       "[5 rows x 78 columns]"
      ]
     },
     "execution_count": 130,
     "metadata": {},
     "output_type": "execute_result"
    }
   ],
   "source": [
    "df.groupby('siren').first().head()"
   ]
  },
  {
   "cell_type": "code",
   "execution_count": 131,
   "metadata": {},
   "outputs": [
    {
     "data": {
      "text/plain": [
       "siren\n",
       "325175     162587500169\n",
       "1807254    361450800036\n",
       "5410220    541022000015\n",
       "5410345    541034500010\n",
       "5410394    541039400018\n",
       "Name: siret, dtype: int64"
      ]
     },
     "execution_count": 131,
     "metadata": {},
     "output_type": "execute_result"
    }
   ],
   "source": [
    "df.groupby('siren')['siret'].sum().head()"
   ]
  },
  {
   "cell_type": "markdown",
   "metadata": {},
   "source": [
    "### Convert Column : Date Creation Etablissement TO Datetime"
   ]
  },
  {
   "cell_type": "markdown",
   "metadata": {},
   "source": [
    "for i in range(len(df)):\n",
    "    try:\n",
    "        math.isnan(df['dateCreationEtablissement'][i]) \n",
    "    except:\n",
    "        df['dateCreationEtablissement'][i] = datetime.strptime(df['dateCreationEtablissement'][i], '%Y-%m-%d')\n",
    "        pass"
   ]
  },
  {
   "cell_type": "markdown",
   "metadata": {},
   "source": [
    "## NAF APE"
   ]
  },
  {
   "cell_type": "markdown",
   "metadata": {},
   "source": [
    "### Function Mean Date / Print Info"
   ]
  },
  {
   "cell_type": "markdown",
   "metadata": {},
   "source": [
    "def mean_date(data):\n",
    "    tot_date = 0\n",
    "    count = 0\n",
    "    \n",
    "    for value in data:\n",
    "        try:\n",
    "            tot_date += value.year\n",
    "            count += 1\n",
    "        except:\n",
    "            pass\n",
    "    if count != 0:\n",
    "        return int(tot_date/count)\n",
    "    else:\n",
    "        return 0"
   ]
  },
  {
   "cell_type": "code",
   "execution_count": 132,
   "metadata": {},
   "outputs": [],
   "source": [
    "def print_infos(name_value,nb_value,mean_date_value,name_code,max_code):\n",
    "    \n",
    "    total = 0\n",
    "    \n",
    "    for i in range(len(name_value)):\n",
    "        total += nb_value[i]\n",
    "        try:\n",
    "            l = i * 3 \n",
    "            print(\"-Name : %s, \\tTotal : %s, mean_date : %s, \\tCode Commune (3): %s,%s,%s, nb_entreprises : %s,%s,%s, Département : %s,%s,%s\\n\" %(name_value[i],nb_value[i],mean_date_value[i],name_code[l],name_code[l+1],name_code[l+2],max_code[l],max_code[l+1],max_code[l+2],code_departement[l],code_departement[l+1],code_departement[l+2]))\n",
    "               \n",
    "        except:\n",
    "            pass\n",
    "        \n",
    "    print(\"\\nTotal siren : \",total)\n",
    "        "
   ]
  },
  {
   "cell_type": "markdown",
   "metadata": {},
   "source": [
    "### Find main Region foreach activitie"
   ]
  },
  {
   "cell_type": "code",
   "execution_count": 133,
   "metadata": {},
   "outputs": [],
   "source": [
    "def max_region(data,df):\n",
    "    \n",
    "    list_code_commune = list()\n",
    "    save_code_commune = list()\n",
    "    save_count = list()\n",
    "    final_save_count = list()\n",
    "    final_name_code = list()\n",
    "\n",
    "    for i in range(len(df)):\n",
    "        try:\n",
    "            list_code_commune.append(data[i])\n",
    "        except:\n",
    "            pass\n",
    "        \n",
    "   \n",
    "       \n",
    "    for i in range(len(list_code_commune)):\n",
    "        count = 0\n",
    "        for j in range(i,len(list_code_commune)):\n",
    "            if list_code_commune[i] == list_code_commune[j]:\n",
    "                count += 1\n",
    "        if list_code_commune[i] not in save_code_commune:\n",
    "            save_code_commune.append(list_code_commune[i])\n",
    "            save_count.append(count)\n",
    "       \n",
    "    try:\n",
    "        final_save_count.append(max(save_count))\n",
    "        max_save_count = final_save_count[-1]\n",
    "        nb_max = 3\n",
    "    \n",
    "        save = save_count[0]\n",
    "    \n",
    "        for j in range(nb_max-1):\n",
    "            for i in range(len(save_count)):\n",
    "                if save_count[i] > save and save_count[i] < max_save_count:\n",
    "                    save = save_count[i]\n",
    "            final_save_count.append(save)\n",
    "            max_save_count = save\n",
    "            save = save_count[0]\n",
    "    except:\n",
    "        pass\n",
    "     \n",
    "    for value in final_save_count:\n",
    "        try:\n",
    "            m_index = [i for i, j in enumerate(save_count) if j == value ]\n",
    "            final_name_code.append(save_code_commune[m_index[0]])\n",
    "            \n",
    "        except:\n",
    "            pass\n",
    "            \n",
    "    return final_name_code,final_save_count\n"
   ]
  },
  {
   "cell_type": "markdown",
   "metadata": {},
   "source": [
    "### Function chiffres : Split Code_Commune"
   ]
  },
  {
   "cell_type": "code",
   "execution_count": 134,
   "metadata": {},
   "outputs": [],
   "source": [
    "def chiffres(n):\n",
    "    c = []\n",
    "    while n >= 1:\n",
    "        c.append(int(n % 10))\n",
    "        n = n / 10\n",
    "        \n",
    "    save = 0\n",
    "    for i in range(int(len(c)/2)):\n",
    "        save = c[i]\n",
    "        c[i] = c[-i -1]\n",
    "        c[-i-1] = save\n",
    "    return c"
   ]
  },
  {
   "cell_type": "markdown",
   "metadata": {},
   "source": [
    "### Convert Code_Commune to Code_Departement"
   ]
  },
  {
   "cell_type": "code",
   "execution_count": 135,
   "metadata": {},
   "outputs": [],
   "source": [
    "def code_depart(code):\n",
    "    code_departement = []\n",
    "    try:\n",
    "        c = chiffres(int(code))\n",
    "        #print(c)\n",
    "        code_departement.append(c[0]*10 +c[1])\n",
    "\n",
    "    except:\n",
    "        pass\n",
    "    \n",
    "    return code_departement\n"
   ]
  },
  {
   "cell_type": "markdown",
   "metadata": {},
   "source": [
    "### Print Info Nomenclature Activite Principale Etablissement"
   ]
  },
  {
   "cell_type": "code",
   "execution_count": null,
   "metadata": {
    "scrolled": false
   },
   "outputs": [],
   "source": [
    "tot = 0\n",
    "name_value = list()\n",
    "nb_value = list()\n",
    "mean_date_value = list()\n",
    "name_code = list()\n",
    "max_code = list()\n",
    "code_departement = list()\n",
    "\n",
    "col_nomenclature = df['activitePrincipaleEtablissement'].unique()\n",
    "\n",
    "for value in col_nomenclature:\n",
    "    tot_imp = len(df[df['activitePrincipaleEtablissement'] == value].groupby('siren').first())\n",
    "\n",
    "    #meandate = mean_date(df[df['activitePrincipaleEtablissement'] == value]['dateCreationEtablissement'])\n",
    "    code,m = max_region(df[df['activitePrincipaleEtablissement'] == value]['codeCommuneEtablissement'],df)\n",
    "    \n",
    "    mean_date= 0\n",
    "    # Save Infos\n",
    "    name_value.append(value)\n",
    "    nb_value.append(tot_imp)\n",
    "    mean_date_value.append(meandate)\n",
    "    \n",
    "    for i in range(len(code)):\n",
    "        name_code.append(code[i])\n",
    "        max_code.append(m[i])\n",
    "    \n",
    "    \n",
    "    for i in range(len(code)):\n",
    "        try:\n",
    "            c = chiffres(int(code[i]))\n",
    "            #print(c)\n",
    "            code_departement.append(c[0]*10 +c[1])\n",
    "\n",
    "        except:\n",
    "            pass\n",
    "    \n",
    "\n",
    "# Print infos\n",
    "print_infos(name_value,nb_value,mean_date_value,name_code,max_code)\n",
    "\n"
   ]
  },
  {
   "cell_type": "code",
   "execution_count": null,
   "metadata": {},
   "outputs": [],
   "source": []
  },
  {
   "cell_type": "code",
   "execution_count": 91,
   "metadata": {},
   "outputs": [
    {
     "data": {
      "text/plain": [
       "13074.0"
      ]
     },
     "execution_count": 91,
     "metadata": {},
     "output_type": "execute_result"
    }
   ],
   "source": [
    "name_code[186]"
   ]
  },
  {
   "cell_type": "code",
   "execution_count": 80,
   "metadata": {},
   "outputs": [
    {
     "name": "stdout",
     "output_type": "stream",
     "text": [
      "[62]\n"
     ]
    }
   ],
   "source": [
    "save = '18.11'\n",
    "m_ = [i for i, j in enumerate(name_value) if j == save ]\n",
    "print(m_)"
   ]
  },
  {
   "cell_type": "code",
   "execution_count": 111,
   "metadata": {},
   "outputs": [
    {
     "name": "stdout",
     "output_type": "stream",
     "text": [
      "-Name : NAFRev2, \tTotal : 10, mean_date : 0, \tCode Commune (3): 80001,4070,84007, nb_entreprises : 5,3,2, Département : 80,40,84\n",
      "\n",
      "-Name : NAP, \tTotal : 58, mean_date : 0, \tCode Commune (3): 80001,4049,4061, nb_entreprises : 7,5,3, Département : 80,40,40\n",
      "\n",
      "-Name : NAF1993, \tTotal : 16, mean_date : 0, \tCode Commune (3): 80001,80001,80001, nb_entreprises : 5,5,5, Département : 80,80,80\n",
      "\n",
      "-Name : NAFRev1, \tTotal : 2, mean_date : 0, \tCode Commune (3): 80001,80001,80001, nb_entreprises : 2,2,2, Département : 80,80,80\n",
      "\n",
      "\n",
      "Total siren :  86\n"
     ]
    }
   ],
   "source": [
    "tot = 0\n",
    "name_value = list()\n",
    "nb_value = list()\n",
    "mean_date_value = list()\n",
    "name_code = list()\n",
    "max_code = list()\n",
    "code_departement = list()\n",
    "\n",
    "col_nomenclature = df['nomenclatureActivitePrincipaleEtablissement'].unique()\n",
    "\n",
    "for value in col_nomenclature:\n",
    "    tot_imp = len(df[df['nomenclatureActivitePrincipaleEtablissement'] == value].groupby('siren').first())\n",
    "\n",
    "    meandate = mean_date(df[df['nomenclatureActivitePrincipaleEtablissement'] == value]['dateCreationEtablissement'])\n",
    "    code,m = max_region(df[df['nomenclatureActivitePrincipaleEtablissement'] == value]['codeCommuneEtablissement'],df)\n",
    "    \n",
    "    \n",
    "    # Save Infos\n",
    "    name_value.append(value)\n",
    "    nb_value.append(tot_imp)\n",
    "    mean_date_value.append(meandate)\n",
    "    \n",
    "    for i in range(len(code)):\n",
    "        name_code.append(code[i])\n",
    "        max_code.append(m[i])\n",
    "    \n",
    "    \n",
    "    for i in range(len(code)):\n",
    "        try:\n",
    "            c = chiffres(int(code[i]))\n",
    "            #print(c)\n",
    "            code_departement.append(c[0]*10 +c[1])\n",
    "\n",
    "        except:\n",
    "            pass\n",
    "    \n",
    "\n",
    "# Print infos\n",
    "\n",
    "print_infos(name_value,nb_value,mean_date_value,name_code,max_code)\n",
    "\n",
    "\n"
   ]
  },
  {
   "cell_type": "markdown",
   "metadata": {},
   "source": [
    "## French map : Use Librairie PYGAL"
   ]
  },
  {
   "cell_type": "markdown",
   "metadata": {},
   "source": [
    "### Custom Style from map"
   ]
  },
  {
   "cell_type": "code",
   "execution_count": 54,
   "metadata": {},
   "outputs": [],
   "source": [
    "custom_style = Style(\n",
    "  background='transparent',\n",
    "  #plot_background='transparent',\n",
    "  transition='200ms ease-in',\n",
    ")"
   ]
  },
  {
   "cell_type": "markdown",
   "metadata": {},
   "source": [
    "### Function which draws chart"
   ]
  },
  {
   "cell_type": "code",
   "execution_count": 61,
   "metadata": {},
   "outputs": [],
   "source": [
    "def chart():\n",
    "\n",
    "    for i in range(50,80):\n",
    "        fr_chart = pygal.maps.fr.Departments(style=custom_style,height=450)\n",
    "        fr_chart.title = 'Activitie by departments'\n",
    "        l = i * 3\n",
    "        try:\n",
    "            fr_chart.add(name_value[i], [code_departement[l],code_departement[l+1],code_departement[l+2]])\n",
    "        except:\n",
    "            pass\n",
    "\n",
    "        #fr_chart.render()           # Exporte to SVG\n",
    "        fr_chart.render_in_browser() # Exporte to Browser"
   ]
  },
  {
   "cell_type": "code",
   "execution_count": 62,
   "metadata": {},
   "outputs": [
    {
     "name": "stdout",
     "output_type": "stream",
     "text": [
      "file:///var/folders/v3/6rms4ljn2dzdln_l8746trf00000gn/T/tmpwh9qaxb8.html\n",
      "file:///var/folders/v3/6rms4ljn2dzdln_l8746trf00000gn/T/tmpxb_ig8tx.html\n",
      "file:///var/folders/v3/6rms4ljn2dzdln_l8746trf00000gn/T/tmp20_08byc.html\n",
      "file:///var/folders/v3/6rms4ljn2dzdln_l8746trf00000gn/T/tmpj0k53nd4.html\n",
      "file:///var/folders/v3/6rms4ljn2dzdln_l8746trf00000gn/T/tmpoln9wp34.html\n",
      "file:///var/folders/v3/6rms4ljn2dzdln_l8746trf00000gn/T/tmpyr6apmpa.html\n",
      "file:///var/folders/v3/6rms4ljn2dzdln_l8746trf00000gn/T/tmphksxwm4j.html\n",
      "file:///var/folders/v3/6rms4ljn2dzdln_l8746trf00000gn/T/tmptsim_un2.html\n",
      "file:///var/folders/v3/6rms4ljn2dzdln_l8746trf00000gn/T/tmpik4gii_9.html\n",
      "file:///var/folders/v3/6rms4ljn2dzdln_l8746trf00000gn/T/tmp9imo20se.html\n",
      "file:///var/folders/v3/6rms4ljn2dzdln_l8746trf00000gn/T/tmpqx68wiba.html\n",
      "file:///var/folders/v3/6rms4ljn2dzdln_l8746trf00000gn/T/tmp5zs3zyqi.html\n",
      "file:///var/folders/v3/6rms4ljn2dzdln_l8746trf00000gn/T/tmprfq5tm7s.html\n",
      "file:///var/folders/v3/6rms4ljn2dzdln_l8746trf00000gn/T/tmppwr08_x2.html\n",
      "file:///var/folders/v3/6rms4ljn2dzdln_l8746trf00000gn/T/tmp2ozo8ioh.html\n",
      "file:///var/folders/v3/6rms4ljn2dzdln_l8746trf00000gn/T/tmpxew04goy.html\n",
      "file:///var/folders/v3/6rms4ljn2dzdln_l8746trf00000gn/T/tmpcaaj2ux5.html\n",
      "file:///var/folders/v3/6rms4ljn2dzdln_l8746trf00000gn/T/tmppltvu5bf.html\n",
      "file:///var/folders/v3/6rms4ljn2dzdln_l8746trf00000gn/T/tmpn20pb7d7.html\n",
      "file:///var/folders/v3/6rms4ljn2dzdln_l8746trf00000gn/T/tmpr2jo1g39.html\n",
      "file:///var/folders/v3/6rms4ljn2dzdln_l8746trf00000gn/T/tmphp30hkwd.html\n",
      "file:///var/folders/v3/6rms4ljn2dzdln_l8746trf00000gn/T/tmpdtjhd4n5.html\n",
      "file:///var/folders/v3/6rms4ljn2dzdln_l8746trf00000gn/T/tmp4vvvuzet.html\n",
      "file:///var/folders/v3/6rms4ljn2dzdln_l8746trf00000gn/T/tmpigebvupu.html\n",
      "file:///var/folders/v3/6rms4ljn2dzdln_l8746trf00000gn/T/tmp6ld8uiqv.html\n",
      "file:///var/folders/v3/6rms4ljn2dzdln_l8746trf00000gn/T/tmp7z520v3t.html\n",
      "file:///var/folders/v3/6rms4ljn2dzdln_l8746trf00000gn/T/tmpz913_o68.html\n",
      "file:///var/folders/v3/6rms4ljn2dzdln_l8746trf00000gn/T/tmp4w90_you.html\n",
      "file:///var/folders/v3/6rms4ljn2dzdln_l8746trf00000gn/T/tmptmmi5hlu.html\n",
      "file:///var/folders/v3/6rms4ljn2dzdln_l8746trf00000gn/T/tmpno2ddn8e.html\n"
     ]
    }
   ],
   "source": [
    "chart()"
   ]
  },
  {
   "cell_type": "markdown",
   "metadata": {},
   "source": [
    "def chart():\n",
    "    for i in range(3):\n",
    "        fr_chart = pygal.maps.fr.Departments(style=custom_style,height=450)\n",
    "        fr_chart.title = 'Activitie by departments'\n",
    "\n",
    "        for i in range(len(name_value)):\n",
    "            l = i * 3\n",
    "            try:\n",
    "                fr_chart.add(name_value[i], {code_departement[l] : max_code[l],code_departement[l+1]: max_code[l+1],code_departement[l+2] : max_code[l+2]})\n",
    "            except:\n",
    "                pass\n",
    "\n",
    "        #fr_chart.render()           # Exporte to SVG\n",
    "        fr_chart.render_in_browser() # Exporte to Browser"
   ]
  },
  {
   "cell_type": "code",
   "execution_count": null,
   "metadata": {},
   "outputs": [],
   "source": []
  },
  {
   "cell_type": "code",
   "execution_count": null,
   "metadata": {},
   "outputs": [],
   "source": []
  },
  {
   "cell_type": "code",
   "execution_count": 63,
   "metadata": {},
   "outputs": [],
   "source": []
  },
  {
   "cell_type": "code",
   "execution_count": 71,
   "metadata": {},
   "outputs": [],
   "source": [
    "save = 18.11\n",
    "m_ = [i for i, j in enumerate(name_value) if j == save ]"
   ]
  },
  {
   "cell_type": "code",
   "execution_count": 72,
   "metadata": {},
   "outputs": [
    {
     "data": {
      "text/plain": [
       "[]"
      ]
     },
     "execution_count": 72,
     "metadata": {},
     "output_type": "execute_result"
    }
   ],
   "source": [
    "m_"
   ]
  },
  {
   "cell_type": "code",
   "execution_count": null,
   "metadata": {},
   "outputs": [],
   "source": []
  }
 ],
 "metadata": {
  "kernelspec": {
   "display_name": "Python 3",
   "language": "python",
   "name": "python3"
  },
  "language_info": {
   "codemirror_mode": {
    "name": "ipython",
    "version": 3
   },
   "file_extension": ".py",
   "mimetype": "text/x-python",
   "name": "python",
   "nbconvert_exporter": "python",
   "pygments_lexer": "ipython3",
   "version": "3.7.3"
  }
 },
 "nbformat": 4,
 "nbformat_minor": 2
}
