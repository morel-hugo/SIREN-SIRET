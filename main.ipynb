{
 "cells": [
  {
   "cell_type": "markdown",
   "metadata": {},
   "source": [
    "### Include Librairies"
   ]
  },
  {
   "cell_type": "code",
   "execution_count": 22,
   "metadata": {},
   "outputs": [],
   "source": [
    "import pandas as pd\n",
    "import seaborn as sns\n",
    "import numpy as np\n",
    "import math\n",
    "from datetime import *\n",
    "import pygal             # Usefull for french map\n",
    "from pygal.style import Style\n",
    "import matplotlib.pyplot as plt\n",
    "%matplotlib inline"
   ]
  },
  {
   "cell_type": "markdown",
   "metadata": {},
   "source": [
    "### Import Data"
   ]
  },
  {
   "cell_type": "code",
   "execution_count": 23,
   "metadata": {},
   "outputs": [],
   "source": [
    "df = pd.read_csv('data.csv')"
   ]
  },
  {
   "cell_type": "code",
   "execution_count": 24,
   "metadata": {},
   "outputs": [
    {
     "data": {
      "text/html": [
       "<div>\n",
       "<style scoped>\n",
       "    .dataframe tbody tr th:only-of-type {\n",
       "        vertical-align: middle;\n",
       "    }\n",
       "\n",
       "    .dataframe tbody tr th {\n",
       "        vertical-align: top;\n",
       "    }\n",
       "\n",
       "    .dataframe thead th {\n",
       "        text-align: right;\n",
       "    }\n",
       "</style>\n",
       "<table border=\"1\" class=\"dataframe\">\n",
       "  <thead>\n",
       "    <tr style=\"text-align: right;\">\n",
       "      <th></th>\n",
       "      <th>siren</th>\n",
       "      <th>nic</th>\n",
       "      <th>siret</th>\n",
       "      <th>statutDiffusionEtablissement</th>\n",
       "      <th>dateCreationEtablissement</th>\n",
       "      <th>trancheEffectifsEtablissement</th>\n",
       "      <th>anneeEffectifsEtablissement</th>\n",
       "      <th>activitePrincipaleRegistreMetiersEtablissement</th>\n",
       "      <th>dateDernierTraitementEtablissement</th>\n",
       "      <th>etablissementSiege</th>\n",
       "      <th>...</th>\n",
       "      <th>dateFin</th>\n",
       "      <th>dateDebut</th>\n",
       "      <th>etatAdministratifEtablissement</th>\n",
       "      <th>enseigne1Etablissement</th>\n",
       "      <th>enseigne2Etablissement</th>\n",
       "      <th>enseigne3Etablissement</th>\n",
       "      <th>denominationUsuelleEtablissement</th>\n",
       "      <th>activitePrincipaleEtablissement</th>\n",
       "      <th>nomenclatureActivitePrincipaleEtablissement</th>\n",
       "      <th>caractereEmployeurEtablissement</th>\n",
       "    </tr>\n",
       "  </thead>\n",
       "  <tbody>\n",
       "    <tr>\n",
       "      <th>0</th>\n",
       "      <td>325175</td>\n",
       "      <td>16</td>\n",
       "      <td>32517500016</td>\n",
       "      <td>O</td>\n",
       "      <td>2000-09-26</td>\n",
       "      <td>NaN</td>\n",
       "      <td>NaN</td>\n",
       "      <td>3212ZZ</td>\n",
       "      <td>2015-03-18T00:58:59</td>\n",
       "      <td>False</td>\n",
       "      <td>...</td>\n",
       "      <td>NaN</td>\n",
       "      <td>2009-05-27</td>\n",
       "      <td>F</td>\n",
       "      <td>NaN</td>\n",
       "      <td>NaN</td>\n",
       "      <td>NaN</td>\n",
       "      <td>NaN</td>\n",
       "      <td>32.12Z</td>\n",
       "      <td>NAFRev2</td>\n",
       "      <td>N</td>\n",
       "    </tr>\n",
       "    <tr>\n",
       "      <th>1</th>\n",
       "      <td>325175</td>\n",
       "      <td>24</td>\n",
       "      <td>32517500024</td>\n",
       "      <td>O</td>\n",
       "      <td>2008-05-20</td>\n",
       "      <td>NaN</td>\n",
       "      <td>NaN</td>\n",
       "      <td>NaN</td>\n",
       "      <td>2011-12-12T09:40:04</td>\n",
       "      <td>False</td>\n",
       "      <td>...</td>\n",
       "      <td>NaN</td>\n",
       "      <td>2011-10-21</td>\n",
       "      <td>F</td>\n",
       "      <td>TAHITI PERLES CREATIONS</td>\n",
       "      <td>NaN</td>\n",
       "      <td>NaN</td>\n",
       "      <td>NaN</td>\n",
       "      <td>47.89Z</td>\n",
       "      <td>NAFRev2</td>\n",
       "      <td>N</td>\n",
       "    </tr>\n",
       "    <tr>\n",
       "      <th>2</th>\n",
       "      <td>325175</td>\n",
       "      <td>32</td>\n",
       "      <td>32517500032</td>\n",
       "      <td>O</td>\n",
       "      <td>2009-05-27</td>\n",
       "      <td>NaN</td>\n",
       "      <td>NaN</td>\n",
       "      <td>NaN</td>\n",
       "      <td>2014-07-08T00:10:21</td>\n",
       "      <td>False</td>\n",
       "      <td>...</td>\n",
       "      <td>NaN</td>\n",
       "      <td>2011-10-21</td>\n",
       "      <td>F</td>\n",
       "      <td>TAHITI PERLES CREATIONS</td>\n",
       "      <td>NaN</td>\n",
       "      <td>NaN</td>\n",
       "      <td>NaN</td>\n",
       "      <td>32.12Z</td>\n",
       "      <td>NAFRev2</td>\n",
       "      <td>N</td>\n",
       "    </tr>\n",
       "    <tr>\n",
       "      <th>3</th>\n",
       "      <td>325175</td>\n",
       "      <td>40</td>\n",
       "      <td>32517500040</td>\n",
       "      <td>O</td>\n",
       "      <td>2011-10-21</td>\n",
       "      <td>NaN</td>\n",
       "      <td>NaN</td>\n",
       "      <td>3212ZZ</td>\n",
       "      <td>2015-03-18T00:58:59</td>\n",
       "      <td>False</td>\n",
       "      <td>...</td>\n",
       "      <td>NaN</td>\n",
       "      <td>2014-01-07</td>\n",
       "      <td>F</td>\n",
       "      <td>TAHITI PERLES CREATION</td>\n",
       "      <td>NaN</td>\n",
       "      <td>NaN</td>\n",
       "      <td>NaN</td>\n",
       "      <td>32.12Z</td>\n",
       "      <td>NAFRev2</td>\n",
       "      <td>N</td>\n",
       "    </tr>\n",
       "    <tr>\n",
       "      <th>4</th>\n",
       "      <td>325175</td>\n",
       "      <td>57</td>\n",
       "      <td>32517500057</td>\n",
       "      <td>O</td>\n",
       "      <td>2014-01-07</td>\n",
       "      <td>NaN</td>\n",
       "      <td>NaN</td>\n",
       "      <td>NaN</td>\n",
       "      <td>2018-07-10T14:17:15</td>\n",
       "      <td>False</td>\n",
       "      <td>...</td>\n",
       "      <td>2018-02-06</td>\n",
       "      <td>2014-01-07</td>\n",
       "      <td>A</td>\n",
       "      <td>TAHITI PERLES CREATION</td>\n",
       "      <td>NaN</td>\n",
       "      <td>NaN</td>\n",
       "      <td>NaN</td>\n",
       "      <td>32.12Z</td>\n",
       "      <td>NAFRev2</td>\n",
       "      <td>N</td>\n",
       "    </tr>\n",
       "  </tbody>\n",
       "</table>\n",
       "<p>5 rows × 79 columns</p>\n",
       "</div>"
      ],
      "text/plain": [
       "    siren  nic        siret statutDiffusionEtablissement  \\\n",
       "0  325175   16  32517500016                            O   \n",
       "1  325175   24  32517500024                            O   \n",
       "2  325175   32  32517500032                            O   \n",
       "3  325175   40  32517500040                            O   \n",
       "4  325175   57  32517500057                            O   \n",
       "\n",
       "  dateCreationEtablissement trancheEffectifsEtablissement  \\\n",
       "0                2000-09-26                           NaN   \n",
       "1                2008-05-20                           NaN   \n",
       "2                2009-05-27                           NaN   \n",
       "3                2011-10-21                           NaN   \n",
       "4                2014-01-07                           NaN   \n",
       "\n",
       "   anneeEffectifsEtablissement activitePrincipaleRegistreMetiersEtablissement  \\\n",
       "0                          NaN                                         3212ZZ   \n",
       "1                          NaN                                            NaN   \n",
       "2                          NaN                                            NaN   \n",
       "3                          NaN                                         3212ZZ   \n",
       "4                          NaN                                            NaN   \n",
       "\n",
       "  dateDernierTraitementEtablissement  etablissementSiege  ...     dateFin  \\\n",
       "0                2015-03-18T00:58:59               False  ...         NaN   \n",
       "1                2011-12-12T09:40:04               False  ...         NaN   \n",
       "2                2014-07-08T00:10:21               False  ...         NaN   \n",
       "3                2015-03-18T00:58:59               False  ...         NaN   \n",
       "4                2018-07-10T14:17:15               False  ...  2018-02-06   \n",
       "\n",
       "    dateDebut etatAdministratifEtablissement   enseigne1Etablissement  \\\n",
       "0  2009-05-27                              F                      NaN   \n",
       "1  2011-10-21                              F  TAHITI PERLES CREATIONS   \n",
       "2  2011-10-21                              F  TAHITI PERLES CREATIONS   \n",
       "3  2014-01-07                              F   TAHITI PERLES CREATION   \n",
       "4  2014-01-07                              A   TAHITI PERLES CREATION   \n",
       "\n",
       "  enseigne2Etablissement  enseigne3Etablissement  \\\n",
       "0                    NaN                     NaN   \n",
       "1                    NaN                     NaN   \n",
       "2                    NaN                     NaN   \n",
       "3                    NaN                     NaN   \n",
       "4                    NaN                     NaN   \n",
       "\n",
       "  denominationUsuelleEtablissement activitePrincipaleEtablissement  \\\n",
       "0                              NaN                          32.12Z   \n",
       "1                              NaN                          47.89Z   \n",
       "2                              NaN                          32.12Z   \n",
       "3                              NaN                          32.12Z   \n",
       "4                              NaN                          32.12Z   \n",
       "\n",
       "  nomenclatureActivitePrincipaleEtablissement  caractereEmployeurEtablissement  \n",
       "0                                     NAFRev2                                N  \n",
       "1                                     NAFRev2                                N  \n",
       "2                                     NAFRev2                                N  \n",
       "3                                     NAFRev2                                N  \n",
       "4                                     NAFRev2                                N  \n",
       "\n",
       "[5 rows x 79 columns]"
      ]
     },
     "execution_count": 24,
     "metadata": {},
     "output_type": "execute_result"
    }
   ],
   "source": [
    "df.head()"
   ]
  },
  {
   "cell_type": "markdown",
   "metadata": {},
   "source": [
    "### Slipt Columns"
   ]
  },
  {
   "cell_type": "code",
   "execution_count": 25,
   "metadata": {},
   "outputs": [
    {
     "data": {
      "text/plain": [
       "Index(['siren', 'nic', 'siret', 'nombrePeriodesEtablissement',\n",
       "       'categorieJuridiqueUniteLegale', 'nicSiegeUniteLegale',\n",
       "       'codePostalEtablissement', 'codeCommuneEtablissement'],\n",
       "      dtype='object')"
      ]
     },
     "execution_count": 25,
     "metadata": {},
     "output_type": "execute_result"
    }
   ],
   "source": [
    "columns_int = df.select_dtypes(include=['int']).columns\n",
    "columns_int"
   ]
  },
  {
   "cell_type": "code",
   "execution_count": 26,
   "metadata": {},
   "outputs": [
    {
     "data": {
      "text/plain": [
       "Index(['anneeEffectifsEtablissement', 'denominationUsuelle2UniteLegale',\n",
       "       'denominationUsuelle3UniteLegale', 'pseudonymeUniteLegale',\n",
       "       'identifiantAssociationUniteLegale', 'anneeEffectifsUniteLegale',\n",
       "       'anneeCategorieEntreprise', 'numeroVoieEtablissement',\n",
       "       'libelleCommuneEtrangerEtablissement', 'codeCedexEtablissement',\n",
       "       'codePaysEtrangerEtablissement', 'libellePaysEtrangerEtablissement',\n",
       "       'complementAdresse2Etablissement', 'numeroVoie2Etablissement',\n",
       "       'indiceRepetition2Etablissement', 'codePostal2Etablissement',\n",
       "       'libelleCommuneEtranger2Etablissement',\n",
       "       'distributionSpeciale2Etablissement', 'codeCommune2Etablissement',\n",
       "       'codeCedex2Etablissement', 'libelleCedex2Etablissement',\n",
       "       'codePaysEtranger2Etablissement', 'libellePaysEtranger2Etablissement',\n",
       "       'enseigne2Etablissement', 'enseigne3Etablissement'],\n",
       "      dtype='object')"
      ]
     },
     "execution_count": 26,
     "metadata": {},
     "output_type": "execute_result"
    }
   ],
   "source": [
    "columns_float = df.select_dtypes(include=['float']).columns\n",
    "columns_float"
   ]
  },
  {
   "cell_type": "code",
   "execution_count": 27,
   "metadata": {},
   "outputs": [
    {
     "data": {
      "text/plain": [
       "Index(['statutDiffusionEtablissement', 'dateCreationEtablissement',\n",
       "       'trancheEffectifsEtablissement',\n",
       "       'activitePrincipaleRegistreMetiersEtablissement',\n",
       "       'dateDernierTraitementEtablissement', 'etatAdministratifUniteLegale',\n",
       "       'statutDiffusionUniteLegale', 'unitePurgeeUniteLegale',\n",
       "       'dateCreationUniteLegale', 'denominationUniteLegale',\n",
       "       'sigleUniteLegale', 'denominationUsuelle1UniteLegale',\n",
       "       'sexeUniteLegale', 'nomUniteLegale', 'nomUsageUniteLegale',\n",
       "       'prenom1UniteLegale', 'prenom2UniteLegale', 'prenom3UniteLegale',\n",
       "       'prenom4UniteLegale', 'prenomUsuelUniteLegale',\n",
       "       'activitePrincipaleUniteLegale',\n",
       "       'nomenclatureActivitePrincipaleUniteLegale',\n",
       "       'economieSocialeSolidaireUniteLegale', 'caractereEmployeurUniteLegale',\n",
       "       'trancheEffectifsUniteLegale', 'dateDernierTraitementUniteLegale',\n",
       "       'categorieEntreprise', 'complementAdresseEtablissement',\n",
       "       'indiceRepetitionEtablissement', 'typeVoieEtablissement',\n",
       "       'libelleVoieEtablissement', 'libelleCommuneEtablissement',\n",
       "       'distributionSpecialeEtablissement', 'libelleCedexEtablissement',\n",
       "       'typeVoie2Etablissement', 'libelleVoie2Etablissement',\n",
       "       'libelleCommune2Etablissement', 'dateFin', 'dateDebut',\n",
       "       'etatAdministratifEtablissement', 'enseigne1Etablissement',\n",
       "       'denominationUsuelleEtablissement', 'activitePrincipaleEtablissement',\n",
       "       'nomenclatureActivitePrincipaleEtablissement',\n",
       "       'caractereEmployeurEtablissement'],\n",
       "      dtype='object')"
      ]
     },
     "execution_count": 27,
     "metadata": {},
     "output_type": "execute_result"
    }
   ],
   "source": [
    "columns_object = df.select_dtypes(include=['object']).columns\n",
    "columns_object"
   ]
  },
  {
   "cell_type": "code",
   "execution_count": 28,
   "metadata": {},
   "outputs": [
    {
     "data": {
      "text/plain": [
       "875"
      ]
     },
     "execution_count": 28,
     "metadata": {},
     "output_type": "execute_result"
    }
   ],
   "source": [
    "df['siren'].nunique()"
   ]
  },
  {
   "cell_type": "code",
   "execution_count": 29,
   "metadata": {},
   "outputs": [
    {
     "data": {
      "text/plain": [
       "1000"
      ]
     },
     "execution_count": 29,
     "metadata": {},
     "output_type": "execute_result"
    }
   ],
   "source": [
    "df['siren'].count()"
   ]
  },
  {
   "cell_type": "code",
   "execution_count": 30,
   "metadata": {},
   "outputs": [
    {
     "data": {
      "text/plain": [
       "1000"
      ]
     },
     "execution_count": 30,
     "metadata": {},
     "output_type": "execute_result"
    }
   ],
   "source": [
    "df['siret'].nunique()"
   ]
  },
  {
   "cell_type": "code",
   "execution_count": 59,
   "metadata": {},
   "outputs": [
    {
     "data": {
      "text/html": [
       "<div>\n",
       "<style scoped>\n",
       "    .dataframe tbody tr th:only-of-type {\n",
       "        vertical-align: middle;\n",
       "    }\n",
       "\n",
       "    .dataframe tbody tr th {\n",
       "        vertical-align: top;\n",
       "    }\n",
       "\n",
       "    .dataframe thead th {\n",
       "        text-align: right;\n",
       "    }\n",
       "</style>\n",
       "<table border=\"1\" class=\"dataframe\">\n",
       "  <thead>\n",
       "    <tr style=\"text-align: right;\">\n",
       "      <th></th>\n",
       "      <th>nic</th>\n",
       "      <th>siret</th>\n",
       "      <th>statutDiffusionEtablissement</th>\n",
       "      <th>dateCreationEtablissement</th>\n",
       "      <th>trancheEffectifsEtablissement</th>\n",
       "      <th>anneeEffectifsEtablissement</th>\n",
       "      <th>activitePrincipaleRegistreMetiersEtablissement</th>\n",
       "      <th>dateDernierTraitementEtablissement</th>\n",
       "      <th>etablissementSiege</th>\n",
       "      <th>nombrePeriodesEtablissement</th>\n",
       "      <th>...</th>\n",
       "      <th>dateFin</th>\n",
       "      <th>dateDebut</th>\n",
       "      <th>etatAdministratifEtablissement</th>\n",
       "      <th>enseigne1Etablissement</th>\n",
       "      <th>enseigne2Etablissement</th>\n",
       "      <th>enseigne3Etablissement</th>\n",
       "      <th>denominationUsuelleEtablissement</th>\n",
       "      <th>activitePrincipaleEtablissement</th>\n",
       "      <th>nomenclatureActivitePrincipaleEtablissement</th>\n",
       "      <th>caractereEmployeurEtablissement</th>\n",
       "    </tr>\n",
       "    <tr>\n",
       "      <th>siren</th>\n",
       "      <th></th>\n",
       "      <th></th>\n",
       "      <th></th>\n",
       "      <th></th>\n",
       "      <th></th>\n",
       "      <th></th>\n",
       "      <th></th>\n",
       "      <th></th>\n",
       "      <th></th>\n",
       "      <th></th>\n",
       "      <th></th>\n",
       "      <th></th>\n",
       "      <th></th>\n",
       "      <th></th>\n",
       "      <th></th>\n",
       "      <th></th>\n",
       "      <th></th>\n",
       "      <th></th>\n",
       "      <th></th>\n",
       "      <th></th>\n",
       "      <th></th>\n",
       "    </tr>\n",
       "  </thead>\n",
       "  <tbody>\n",
       "    <tr>\n",
       "      <th>325175</th>\n",
       "      <td>16</td>\n",
       "      <td>32517500016</td>\n",
       "      <td>O</td>\n",
       "      <td>2000-09-26 00:00:00</td>\n",
       "      <td>NaN</td>\n",
       "      <td>NaN</td>\n",
       "      <td>3212ZZ</td>\n",
       "      <td>2015-03-18T00:58:59</td>\n",
       "      <td>False</td>\n",
       "      <td>3</td>\n",
       "      <td>...</td>\n",
       "      <td>2018-02-06</td>\n",
       "      <td>2009-05-27</td>\n",
       "      <td>F</td>\n",
       "      <td>TAHITI PERLES CREATIONS</td>\n",
       "      <td>NaN</td>\n",
       "      <td>NaN</td>\n",
       "      <td>NaN</td>\n",
       "      <td>32.12Z</td>\n",
       "      <td>NAFRev2</td>\n",
       "      <td>N</td>\n",
       "    </tr>\n",
       "    <tr>\n",
       "      <th>1807254</th>\n",
       "      <td>14</td>\n",
       "      <td>180725400014</td>\n",
       "      <td>O</td>\n",
       "      <td>1972-05-01 00:00:00</td>\n",
       "      <td>NaN</td>\n",
       "      <td>NaN</td>\n",
       "      <td>NaN</td>\n",
       "      <td>2009-10-02T11:01:38</td>\n",
       "      <td>False</td>\n",
       "      <td>3</td>\n",
       "      <td>...</td>\n",
       "      <td>NaN</td>\n",
       "      <td>2008-01-01</td>\n",
       "      <td>F</td>\n",
       "      <td>NaN</td>\n",
       "      <td>NaN</td>\n",
       "      <td>NaN</td>\n",
       "      <td>NaN</td>\n",
       "      <td>95.24Z</td>\n",
       "      <td>NAFRev2</td>\n",
       "      <td>N</td>\n",
       "    </tr>\n",
       "    <tr>\n",
       "      <th>5410220</th>\n",
       "      <td>15</td>\n",
       "      <td>541022000015</td>\n",
       "      <td>O</td>\n",
       "      <td>NaN</td>\n",
       "      <td>NN</td>\n",
       "      <td>NaN</td>\n",
       "      <td>NaN</td>\n",
       "      <td>NaN</td>\n",
       "      <td>True</td>\n",
       "      <td>1</td>\n",
       "      <td>...</td>\n",
       "      <td>NaN</td>\n",
       "      <td>1988-03-31</td>\n",
       "      <td>F</td>\n",
       "      <td>NaN</td>\n",
       "      <td>NaN</td>\n",
       "      <td>NaN</td>\n",
       "      <td>NaN</td>\n",
       "      <td>22.02</td>\n",
       "      <td>NAP</td>\n",
       "      <td>N</td>\n",
       "    </tr>\n",
       "    <tr>\n",
       "      <th>5410345</th>\n",
       "      <td>10</td>\n",
       "      <td>541034500010</td>\n",
       "      <td>O</td>\n",
       "      <td>NaN</td>\n",
       "      <td>NaN</td>\n",
       "      <td>NaN</td>\n",
       "      <td>NaN</td>\n",
       "      <td>NaN</td>\n",
       "      <td>True</td>\n",
       "      <td>1</td>\n",
       "      <td>...</td>\n",
       "      <td>NaN</td>\n",
       "      <td>1984-12-25</td>\n",
       "      <td>F</td>\n",
       "      <td>NaN</td>\n",
       "      <td>NaN</td>\n",
       "      <td>NaN</td>\n",
       "      <td>NaN</td>\n",
       "      <td>79.06</td>\n",
       "      <td>NAP</td>\n",
       "      <td>N</td>\n",
       "    </tr>\n",
       "    <tr>\n",
       "      <th>5410394</th>\n",
       "      <td>18</td>\n",
       "      <td>541039400018</td>\n",
       "      <td>O</td>\n",
       "      <td>NaN</td>\n",
       "      <td>NN</td>\n",
       "      <td>NaN</td>\n",
       "      <td>NaN</td>\n",
       "      <td>NaN</td>\n",
       "      <td>True</td>\n",
       "      <td>1</td>\n",
       "      <td>...</td>\n",
       "      <td>NaN</td>\n",
       "      <td>1987-12-01</td>\n",
       "      <td>F</td>\n",
       "      <td>NaN</td>\n",
       "      <td>NaN</td>\n",
       "      <td>NaN</td>\n",
       "      <td>NaN</td>\n",
       "      <td>64.42</td>\n",
       "      <td>NAP</td>\n",
       "      <td>N</td>\n",
       "    </tr>\n",
       "  </tbody>\n",
       "</table>\n",
       "<p>5 rows × 78 columns</p>\n",
       "</div>"
      ],
      "text/plain": [
       "         nic         siret statutDiffusionEtablissement  \\\n",
       "siren                                                     \n",
       "325175    16   32517500016                            O   \n",
       "1807254   14  180725400014                            O   \n",
       "5410220   15  541022000015                            O   \n",
       "5410345   10  541034500010                            O   \n",
       "5410394   18  541039400018                            O   \n",
       "\n",
       "        dateCreationEtablissement trancheEffectifsEtablissement  \\\n",
       "siren                                                             \n",
       "325175        2000-09-26 00:00:00                           NaN   \n",
       "1807254       1972-05-01 00:00:00                           NaN   \n",
       "5410220                       NaN                            NN   \n",
       "5410345                       NaN                           NaN   \n",
       "5410394                       NaN                            NN   \n",
       "\n",
       "         anneeEffectifsEtablissement  \\\n",
       "siren                                  \n",
       "325175                           NaN   \n",
       "1807254                          NaN   \n",
       "5410220                          NaN   \n",
       "5410345                          NaN   \n",
       "5410394                          NaN   \n",
       "\n",
       "        activitePrincipaleRegistreMetiersEtablissement  \\\n",
       "siren                                                    \n",
       "325175                                          3212ZZ   \n",
       "1807254                                            NaN   \n",
       "5410220                                            NaN   \n",
       "5410345                                            NaN   \n",
       "5410394                                            NaN   \n",
       "\n",
       "        dateDernierTraitementEtablissement  etablissementSiege  \\\n",
       "siren                                                            \n",
       "325175                 2015-03-18T00:58:59               False   \n",
       "1807254                2009-10-02T11:01:38               False   \n",
       "5410220                                NaN                True   \n",
       "5410345                                NaN                True   \n",
       "5410394                                NaN                True   \n",
       "\n",
       "         nombrePeriodesEtablissement  ...     dateFin   dateDebut  \\\n",
       "siren                                 ...                           \n",
       "325175                             3  ...  2018-02-06  2009-05-27   \n",
       "1807254                            3  ...         NaN  2008-01-01   \n",
       "5410220                            1  ...         NaN  1988-03-31   \n",
       "5410345                            1  ...         NaN  1984-12-25   \n",
       "5410394                            1  ...         NaN  1987-12-01   \n",
       "\n",
       "        etatAdministratifEtablissement   enseigne1Etablissement  \\\n",
       "siren                                                             \n",
       "325175                               F  TAHITI PERLES CREATIONS   \n",
       "1807254                              F                      NaN   \n",
       "5410220                              F                      NaN   \n",
       "5410345                              F                      NaN   \n",
       "5410394                              F                      NaN   \n",
       "\n",
       "         enseigne2Etablissement enseigne3Etablissement  \\\n",
       "siren                                                    \n",
       "325175                      NaN                    NaN   \n",
       "1807254                     NaN                    NaN   \n",
       "5410220                     NaN                    NaN   \n",
       "5410345                     NaN                    NaN   \n",
       "5410394                     NaN                    NaN   \n",
       "\n",
       "        denominationUsuelleEtablissement activitePrincipaleEtablissement  \\\n",
       "siren                                                                      \n",
       "325175                               NaN                          32.12Z   \n",
       "1807254                              NaN                          95.24Z   \n",
       "5410220                              NaN                           22.02   \n",
       "5410345                              NaN                           79.06   \n",
       "5410394                              NaN                           64.42   \n",
       "\n",
       "         nomenclatureActivitePrincipaleEtablissement  \\\n",
       "siren                                                  \n",
       "325175                                       NAFRev2   \n",
       "1807254                                      NAFRev2   \n",
       "5410220                                          NAP   \n",
       "5410345                                          NAP   \n",
       "5410394                                          NAP   \n",
       "\n",
       "         caractereEmployeurEtablissement  \n",
       "siren                                     \n",
       "325175                                 N  \n",
       "1807254                                N  \n",
       "5410220                                N  \n",
       "5410345                                N  \n",
       "5410394                                N  \n",
       "\n",
       "[5 rows x 78 columns]"
      ]
     },
     "execution_count": 59,
     "metadata": {},
     "output_type": "execute_result"
    }
   ],
   "source": [
    "df.groupby('siren').first().head()"
   ]
  },
  {
   "cell_type": "code",
   "execution_count": 32,
   "metadata": {},
   "outputs": [
    {
     "data": {
      "text/plain": [
       "siren\n",
       "325175     162587500169\n",
       "1807254    361450800036\n",
       "5410220    541022000015\n",
       "5410345    541034500010\n",
       "5410394    541039400018\n",
       "Name: siret, dtype: int64"
      ]
     },
     "execution_count": 32,
     "metadata": {},
     "output_type": "execute_result"
    }
   ],
   "source": [
    "df.groupby('siren')['siret'].sum().head()"
   ]
  },
  {
   "cell_type": "markdown",
   "metadata": {},
   "source": [
    "### Convert Column : Date Creation Etablissement TO Datetime"
   ]
  },
  {
   "cell_type": "code",
   "execution_count": 33,
   "metadata": {},
   "outputs": [
    {
     "name": "stderr",
     "output_type": "stream",
     "text": [
      "/Library/Frameworks/Python.framework/Versions/3.7/lib/python3.7/site-packages/ipykernel_launcher.py:5: SettingWithCopyWarning: \n",
      "A value is trying to be set on a copy of a slice from a DataFrame\n",
      "\n",
      "See the caveats in the documentation: http://pandas.pydata.org/pandas-docs/stable/indexing.html#indexing-view-versus-copy\n",
      "  \"\"\"\n"
     ]
    }
   ],
   "source": [
    "for i in range(len(df)):\n",
    "    try:\n",
    "        math.isnan(df['dateCreationEtablissement'][i]) \n",
    "    except:\n",
    "        df['dateCreationEtablissement'][i] = datetime.strptime(df['dateCreationEtablissement'][i], '%Y-%m-%d')\n",
    "        pass"
   ]
  },
  {
   "cell_type": "markdown",
   "metadata": {},
   "source": [
    "## NAF APE"
   ]
  },
  {
   "cell_type": "markdown",
   "metadata": {},
   "source": [
    "### Function Mean Date / Print Info"
   ]
  },
  {
   "cell_type": "code",
   "execution_count": 34,
   "metadata": {},
   "outputs": [],
   "source": [
    "def mean_date(data):\n",
    "    tot_date = 0\n",
    "    count = 0\n",
    "    \n",
    "    for value in data:\n",
    "        try:\n",
    "            tot_date += value.year\n",
    "            count += 1\n",
    "        except:\n",
    "            pass\n",
    "    if count != 0:\n",
    "        return int(tot_date/count)\n",
    "    else:\n",
    "        return 0"
   ]
  },
  {
   "cell_type": "code",
   "execution_count": 35,
   "metadata": {},
   "outputs": [],
   "source": [
    "def print_infos(name_value,nb_value,mean_date_value,name_code,max_code):\n",
    "    \n",
    "    total = 0\n",
    "    \n",
    "    for i in range(len(name_value)):\n",
    "        total += nb_value[i]\n",
    "        try:\n",
    "            print(\"-Name : %s, \\tnb : %s, mean_date : %s, \\tCode Commune : %s, Département : %s,  nb entreprise : %s\" %(name_value[i],nb_value[i],mean_date_value[i],name_code[i],code_departement[i],max_code[i]))\n",
    "        except:\n",
    "            pass\n",
    "        \n",
    "    print(\"\\nTotal siren : \",total)\n",
    "        "
   ]
  },
  {
   "cell_type": "markdown",
   "metadata": {},
   "source": [
    "### Find main Region foreach activitie"
   ]
  },
  {
   "cell_type": "code",
   "execution_count": 36,
   "metadata": {},
   "outputs": [],
   "source": [
    "def max_region(data,df):\n",
    "    \n",
    "    list_code_commune = list()\n",
    "    save_code_commune = list()\n",
    "    save_count = list()\n",
    "\n",
    "\n",
    "\n",
    "    for i in range(len(df)):\n",
    "        try:\n",
    "            list_code_commune.append(data[i])\n",
    "        except:\n",
    "            pass\n",
    "    \n",
    "    \n",
    "    \n",
    "    for i in range(len(list_code_commune)):\n",
    "        count = 0\n",
    "        for j in range(i,len(list_code_commune)):\n",
    "            if list_code_commune[i] == list_code_commune[j]:\n",
    "                count += 1\n",
    "        save_code_commune.append(list_code_commune[i])\n",
    "        save_count.append(count)\n",
    "       \n",
    "    try:\n",
    "        m = max(save_count)\n",
    "        m_index = [i for i, j in enumerate(save_count) if j == m]\n",
    "        name_code = save_code_commune[m_index[0]]\n",
    "        \n",
    "    except:\n",
    "        name_code = 0\n",
    "        m = 0\n",
    "        pass\n",
    "        \n",
    "    return name_code,m\n",
    "    "
   ]
  },
  {
   "cell_type": "markdown",
   "metadata": {},
   "source": [
    "### Function chiffres : Split Code_Commune"
   ]
  },
  {
   "cell_type": "code",
   "execution_count": 37,
   "metadata": {},
   "outputs": [],
   "source": [
    "def chiffres(n):\n",
    "    c = []\n",
    "    while n >= 1:\n",
    "        c.append(int(n % 10))\n",
    "        n = n / 10\n",
    "        \n",
    "    save = 0\n",
    "    for i in range(int(len(c)/2)):\n",
    "        save = c[i]\n",
    "        c[i] = c[-i -1]\n",
    "        c[-i-1] = save\n",
    "    return c"
   ]
  },
  {
   "cell_type": "markdown",
   "metadata": {},
   "source": [
    "### Convert Code_Commune to Code_Departement"
   ]
  },
  {
   "cell_type": "code",
   "execution_count": 38,
   "metadata": {},
   "outputs": [],
   "source": [
    "def code_depart(code):\n",
    "    code_departement = []\n",
    "    try:\n",
    "        c = chiffres(int(code))\n",
    "        #print(c)\n",
    "        code_departement.append(c[0]*10 +c[1])\n",
    "\n",
    "    except:\n",
    "        pass\n",
    "    \n",
    "    return code_departement\n"
   ]
  },
  {
   "cell_type": "markdown",
   "metadata": {},
   "source": [
    "### Print Info Nomenclature Activite Principale Etablissement"
   ]
  },
  {
   "cell_type": "code",
   "execution_count": 39,
   "metadata": {},
   "outputs": [
    {
     "name": "stdout",
     "output_type": "stream",
     "text": [
      "-Name : NAFRev2, \tnb : 103, mean_date : 1974, \tCode Commune : 80001, Département : 80,  nb entreprise : 24\n",
      "-Name : NAP, \tnb : 586, mean_date : 1922, \tCode Commune : 44184, Département : 44,  nb entreprise : 72\n",
      "-Name : NAF1993, \tnb : 189, mean_date : 1957, \tCode Commune : 4070, Département : 40,  nb entreprise : 24\n",
      "-Name : NAFRev1, \tnb : 28, mean_date : 1966, \tCode Commune : 80001, Département : 80,  nb entreprise : 8\n",
      "\n",
      "Total siren :  906\n"
     ]
    }
   ],
   "source": [
    "tot = 0\n",
    "name_value = list()\n",
    "nb_value = list()\n",
    "mean_date_value = list()\n",
    "name_code = list()\n",
    "max_code = list()\n",
    "code_departement = list()\n",
    "\n",
    "col_nomenclature = df['nomenclatureActivitePrincipaleEtablissement'].unique()\n",
    "\n",
    "for value in col_nomenclature:\n",
    "    tot_imp = len(df[df['nomenclatureActivitePrincipaleEtablissement'] == value].groupby('siren').first())\n",
    "\n",
    "    meandate = mean_date(df[df['nomenclatureActivitePrincipaleEtablissement'] == value]['dateCreationEtablissement'])\n",
    "    code,m = max_region(df[df['nomenclatureActivitePrincipaleEtablissement'] == value]['codeCommuneEtablissement'],df)\n",
    "    \n",
    "    \n",
    "    # Save Infos\n",
    "    name_value.append(value)\n",
    "    nb_value.append(tot_imp)\n",
    "    mean_date_value.append(meandate)\n",
    "    name_code.append(code)\n",
    "    max_code.append(m)\n",
    "    \n",
    "    try:\n",
    "        c = chiffres(int(code))\n",
    "        #print(c)\n",
    "        code_departement.append(c[0]*10 +c[1])\n",
    "\n",
    "    except:\n",
    "        pass\n",
    "    \n",
    "\n",
    "\n",
    "# Print infos\n",
    "print_infos(name_value,nb_value,mean_date_value,name_code,max_code)\n",
    "\n"
   ]
  },
  {
   "cell_type": "markdown",
   "metadata": {},
   "source": [
    "## French map : Use Librairie PYGAL"
   ]
  },
  {
   "cell_type": "markdown",
   "metadata": {},
   "source": [
    "### Custom Style from map"
   ]
  },
  {
   "cell_type": "code",
   "execution_count": 50,
   "metadata": {},
   "outputs": [],
   "source": [
    "custom_style = Style(\n",
    "  background='transparent',\n",
    "  #plot_background='transparent',\n",
    "  transition='200ms ease-in',\n",
    "  #colors=('#e5849b', '#e5849b', '#f3d387', '#8fd9b3', '#E89B53'),\n",
    ")"
   ]
  },
  {
   "cell_type": "markdown",
   "metadata": {},
   "source": [
    "### Function which draws chart"
   ]
  },
  {
   "cell_type": "code",
   "execution_count": 57,
   "metadata": {},
   "outputs": [],
   "source": [
    "def chart():\n",
    "    fr_chart = pygal.maps.fr.Departments(style=custom_style,height=450)\n",
    "    fr_chart.title = 'Activities by departments'\n",
    "    \n",
    "    for i in range(len(code_departement)):\n",
    "        fr_chart.add(name_value[i], {code_departement[i]: max_code[i]})\n",
    "    \n",
    "    \n",
    "    #fr_chart.render()           # Exporte to SVG\n",
    "    fr_chart.render_in_browser() # Exporte to Browser"
   ]
  },
  {
   "cell_type": "code",
   "execution_count": 58,
   "metadata": {},
   "outputs": [
    {
     "name": "stdout",
     "output_type": "stream",
     "text": [
      "file:///var/folders/v3/6rms4ljn2dzdln_l8746trf00000gn/T/tmp4o7gxcv5.html\n"
     ]
    }
   ],
   "source": [
    "chart()"
   ]
  },
  {
   "cell_type": "code",
   "execution_count": null,
   "metadata": {},
   "outputs": [],
   "source": []
  },
  {
   "cell_type": "code",
   "execution_count": null,
   "metadata": {},
   "outputs": [],
   "source": []
  },
  {
   "cell_type": "code",
   "execution_count": null,
   "metadata": {},
   "outputs": [],
   "source": []
  }
 ],
 "metadata": {
  "kernelspec": {
   "display_name": "Python 3",
   "language": "python",
   "name": "python3"
  },
  "language_info": {
   "codemirror_mode": {
    "name": "ipython",
    "version": 3
   },
   "file_extension": ".py",
   "mimetype": "text/x-python",
   "name": "python",
   "nbconvert_exporter": "python",
   "pygments_lexer": "ipython3",
   "version": "3.7.3"
  }
 },
 "nbformat": 4,
 "nbformat_minor": 2
}
